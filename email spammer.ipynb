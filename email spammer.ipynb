{
 "cells": [
  {
   "cell_type": "code",
   "execution_count": 4,
   "metadata": {},
   "outputs": [
    {
     "data": {
      "text/plain": [
       "array([0, 0, 1], dtype=int64)"
      ]
     },
     "execution_count": 4,
     "metadata": {},
     "output_type": "execute_result"
    }
   ],
   "source": [
    "import pandas as pd\n",
    "\n",
    "df = pd.read_csv(r'C:\\Users\\hp\\Downloads\\py-master\\ML\\14_naive_bayes\\spam.csv')\n",
    "df.head()\n",
    "\n",
    "df.groupby('Category').describe()\n",
    "\n",
    "df['spam']=df['Category'].apply(lambda x: 1 if x=='spam' else 0)\n",
    "from sklearn.model_selection import train_test_split\n",
    "X_train, X_test, y_train, y_test = train_test_split(df.Message,df.spam,test_size=0.2)\n",
    "from sklearn.feature_extraction.text import CountVectorizer\n",
    "v = CountVectorizer()\n",
    "X_train_count = v.fit_transform(X_train.values)\n",
    "X_train_count.toarray()[:2]\n",
    "\n",
    "from sklearn.naive_bayes import MultinomialNB\n",
    "model = MultinomialNB()\n",
    "model.fit(X_train_count,y_train)\n",
    "\n",
    "\n",
    "emails = [\n",
    "    'cosec community belives in you',\n",
    "    'ai is best field',\n",
    "    'Upto 20% discount on parking, exclusive offer just for you. Dont miss this reward!'\n",
    "]\n",
    "emails_count = v.transform(emails)\n",
    "model.predict(emails_count)\n",
    "\n",
    "# model.predict(X_train_count)\n"
   ]
  },
  {
   "cell_type": "code",
   "execution_count": 36,
   "metadata": {},
   "outputs": [
    {
     "data": {
      "text/plain": [
       "1611    0\n",
       "1813    1\n",
       "1363    0\n",
       "2216    0\n",
       "484     0\n",
       "897     0\n",
       "6       0\n",
       "2159    0\n",
       "423     0\n",
       "2079    1\n",
       "Name: WINNER, dtype: int64"
      ]
     },
     "execution_count": 36,
     "metadata": {},
     "output_type": "execute_result"
    }
   ],
   "source": [
    "import pandas as pd\n",
    "\n",
    "df = pd.read_csv(r'C:\\Users\\hp\\Downloads\\LS_2.0.csv')\n",
    "\n",
    "\n",
    "\n",
    "df.drop(['NAME','CONSTITUENCY','SYMBOL','LIABILITIES','ASSETS','STATE','CATEGORY','PARTY','CRIMINAL\\nCASES'],axis='columns',inplace=True)\n",
    "df.head()\n",
    "\n",
    "target = df.WINNER\n",
    "inputs = df.drop('WINNER',axis='columns')\n",
    "\n",
    "dummies = pd.get_dummies(inputs.GENDER)\n",
    "dummies.head(3)\n",
    "\n",
    "inputs = pd.concat([inputs,dummies],axis='columns')\n",
    "\n",
    "inputs.drop(['GENDER'],axis='columns',inplace=True)\n",
    "\n",
    "inputs['spam']=inputs['EDUCATION'].apply(lambda x: 1 if x=='12th Pass' else 0)\n",
    "inputs.drop(['EDUCATION'],axis='columns',inplace=True)\n",
    "inputs.head(3)\n",
    "inputs.columns[inputs.isna().any()]\n",
    "inputs.AGE = inputs.AGE.fillna(inputs.AGE.mean())\n",
    "inputs.head(10)\n",
    "\n",
    "from sklearn.model_selection import train_test_split\n",
    "X_train, X_test, y_train, y_test = train_test_split(inputs,target,test_size=0.2)\n",
    "\n",
    "from sklearn.naive_bayes import GaussianNB\n",
    "model = GaussianNB()\n",
    "\n",
    "model.fit(X_train,y_train)\n",
    "model.score(X_test,y_test)#87% if gaussian\n",
    "y_test[0:10]\n",
    "model.predict(X_test[0:10])\n",
    "y_test[0:10]\n",
    "#model.predict_proba(X_test[:10])\n",
    "#inputs.head(10)"
   ]
  },
  {
   "cell_type": "code",
   "execution_count": 37,
   "metadata": {},
   "outputs": [
    {
     "data": {
      "text/plain": [
       "array([0, 1, 0, 0, 0, 0, 0, 0, 0, 1], dtype=int64)"
      ]
     },
     "execution_count": 37,
     "metadata": {},
     "output_type": "execute_result"
    }
   ],
   "source": [
    "model.predict(X_test[0:10])"
   ]
  },
  {
   "cell_type": "code",
   "execution_count": null,
   "metadata": {},
   "outputs": [],
   "source": []
  }
 ],
 "metadata": {
  "kernelspec": {
   "display_name": "Python 3",
   "language": "python",
   "name": "python3"
  },
  "language_info": {
   "codemirror_mode": {
    "name": "ipython",
    "version": 3
   },
   "file_extension": ".py",
   "mimetype": "text/x-python",
   "name": "python",
   "nbconvert_exporter": "python",
   "pygments_lexer": "ipython3",
   "version": "3.7.4"
  }
 },
 "nbformat": 4,
 "nbformat_minor": 2
}
